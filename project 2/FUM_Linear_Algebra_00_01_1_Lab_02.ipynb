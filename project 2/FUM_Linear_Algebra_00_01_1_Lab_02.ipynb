{
 "cells": [
  {
   "cell_type": "markdown",
   "source": [
    "\n",
    "##**⚈ 𝙁𝙪𝙡𝙡 𝙉𝙖𝙢𝙚: 𝙈𝙤𝙝𝙖𝙢𝙢𝙖𝙙 𝙨𝙝𝙞𝙧𝙨𝙝𝙚𝙠𝙖𝙧**\n",
    "##**⚈ 𝙎𝙩𝙪𝙙𝙚𝙣𝙩 𝙉𝙪𝙢𝙗𝙚𝙧: NAN**"
   ],
   "metadata": {
    "id": "CM5mZnPKPXNB"
   }
  },
  {
   "cell_type": "markdown",
   "metadata": {
    "id": "8jd0qdFrjLc8"
   },
   "source": [
    "# Applied Linear Algebra - Lab 2\n",
    "Ferdowsi University of Mashhad - Computer Engineering Department\n",
    "\n",
    "Fall 2021\n",
    "\n",
    "### Table of Contents\n",
    "\n",
    "* [Projection matrices and least squares](#sec1)\n",
    "    * [Exercise 1](#sec2)\n",
    "* [Solving the least squares equation via QR Decomposition](#sec3)\n",
    "    * [Exercise 2](#sec4)\n",
    "\n",
    "* [Predicting Medical Cost with Linear regression](#sec5)\n",
    "    * [Data Preprocessing](#sec5_1)\n",
    "    * [Model building](#sec5_2)\n",
    "    * [Training the Model](#sec5_3)\n",
    "        * [Exercise 3](#sec5_4)\n",
    "    * [Model Evaluation](#sec5_5)\n",
    "        * [Exercise 4](#sec5_6)\n",
    "* [Optional Excersice](#sec6)"
   ]
  },
  {
   "cell_type": "markdown",
   "metadata": {
    "id": "FaIocdNOjLdA"
   },
   "source": [
    "# Projection matrices and least squares <a class=\"anchor\" id=\"sec1\"></a>\n",
    "\n",
    "### Least square approximation\n",
    "A crucial application of least squares is fitting a straight line to $m$ points.\n",
    "\n",
    "Consider five points in the plane: \n",
    "\n",
    "$$ (x_i, y_{i}) = (1, 4), (2, 8), (4, 10) , (5, 12), (7, 18)$$\n",
    "\n",
    "- Find the closest line to these five points."
   ]
  },
  {
   "cell_type": "code",
   "execution_count": 1,
   "metadata": {
    "id": "j0lMskeUjLdA"
   },
   "outputs": [],
   "source": [
    "import numpy as np\n",
    "import pandas as pd\n",
    "import matplotlib.pyplot as plt"
   ]
  },
  {
   "cell_type": "code",
   "execution_count": 2,
   "metadata": {
    "colab": {
     "base_uri": "https://localhost:8080/",
     "height": 265
    },
    "id": "GMEMO5kYjLdB",
    "outputId": "a9b19187-1139-4da0-982f-31d7d7f9656d"
   },
   "outputs": [
    {
     "output_type": "display_data",
     "data": {
      "image/png": "[encoded data removed]",
      "text/plain": [
       "<Figure size 432x288 with 1 Axes>"
      ]
     },
     "metadata": {
      "needs_background": "light"
     }
    }
   ],
   "source": [
    "x = np.array([[1], [2], [4], [5], [7]]) \n",
    "y = np.array([[4], [8], [10], [12], [18]]) \n",
    "plt.scatter(x, y)\n",
    "plt.show()"
   ]
  },
  {
   "cell_type": "markdown",
   "metadata": {
    "id": "pg5hJCigjLdB"
   },
   "source": [
    "- No straight line $ y = \\theta_0 + \\theta_1 x  $ goes through these five points. \n",
    "- We are looking for numbers $\\theta_0$ and $\\theta_1 $that satisfy five equations:\n",
    "     \n",
    "$$ (x_1 = 1) \\;\\;\\;\\; y_1 = \\theta_0 + 1\\theta_1 = 4 $$\n",
    "     \n",
    "$$ (x_2 = 2) \\;\\;\\;\\; y_2 = \\theta_0 + 2\\theta_1 = 8 $$\n",
    "     \n",
    "$$ (x_3 = 4) \\;\\;\\;\\; y_3 = \\theta_0 + 4\\theta_1 = 10 $$\n",
    "\n",
    "$$ (x_4 = 5) \\;\\;\\;\\; y_4 = \\theta_0 + 5\\theta_1 = 12 $$\n",
    "\n",
    "$$ (x_5 = 7) \\;\\;\\;\\; y_5 = \\theta_0 + 7\\theta_1 = 18 $$\n",
    "    \n",
    "    \n",
    "- This 5 by 2 system has no solution, $ y = (4, 8, 10, 12, 18) $ is not a combination of the columns of $X$.\n",
    "\n",
    "$$X = \\begin {bmatrix} 1 & 1 \\\\ 1 & 2 \\\\ 1 & 4\\\\ 1 & 5 \\\\ 1 & 7  \\end{bmatrix} \\;\\;\\;\\; \\theta = \\begin {bmatrix} \\theta_0 \\\\ \\theta_1 \\end{bmatrix} \\;\\;\\;\\; y = \\begin {bmatrix} 4 \\\\ 8 \\\\ 10\\\\ 12 \\\\18 \\end{bmatrix} \\;\\;\\;\\; X \\theta = y \\;\\; \\text{is not solvable} $$\n",
    "\n"
   ]
  },
  {
   "cell_type": "markdown",
   "metadata": {
    "id": "_nIQjH57jLdC"
   },
   "source": [
    "#### Minimizing the Error\n",
    "\n",
    "- Now that we cannot fit a line that goes through all five points, we try to find the best line $(\\hat{\\theta})$ for the five points and minimize the overall error, the error is \n",
    "    $ | e |^2 = | y - X\\hat{\\theta} |^2 $\n",
    "    \n",
    "- In order to minimize the error, we look for the closest point to $y$ that is in the column space of $X$, the nearest point is $p$ (the projection of $b$ into $A$.)\n",
    "\n",
    "- Every vector $b$ splits into two parts, The part in the column space is $p$. and The perpendicular part is $e. \\; (y = p + e) $\n",
    "\n",
    "- We can find $\\hat{\\theta}$ (best fitting line) by solving the equation $ X^T X  \\hat{\\theta} = X^T y$\n",
    "\n",
    "$$ \\hat{\\theta} = \\begin {bmatrix} \\hat{\\theta_0} \\\\ \\hat{\\theta_1} \\end{bmatrix} \\;\\;\\;\\;\\;\\;\\; \\hat{\\theta} =  (X^T X)^{-1} X^T y $$ \n"
   ]
  },
  {
   "cell_type": "markdown",
   "metadata": {
    "id": "ZSblm1gVjLdD"
   },
   "source": [
    "## Exercise 1 <a class=\"anchor\" id=\"sec2\"></a>\n"
   ]
  },
  {
   "cell_type": "code",
   "execution_count": 130,
   "metadata": {
    "id": "uOzKBOAojLdD"
   },
   "outputs": [],
   "source": [
    "X = np.array([[1, 1], [1, 2], [1, 4], [1, 5], [1, 7]]) \n",
    "y = np.array([[4], [8], [10], [12], [18]]) "
   ]
  },
  {
   "cell_type": "markdown",
   "metadata": {
    "id": "tQDTp5rnjLdE"
   },
   "source": [
    "**Question 1:** calculate $\\hat{\\theta}$ for the given data points."
   ]
  },
  {
   "cell_type": "code",
   "execution_count": 4,
   "metadata": {
    "tags": [],
    "colab": {
     "base_uri": "https://localhost:8080/"
    },
    "id": "JIlD_OEGjLdF",
    "outputId": "b7a3b386-4ee8-407b-973e-5ec1c5ff0e52"
   },
   "outputs": [
    {
     "output_type": "stream",
     "name": "stdout",
     "text": [
      "[[2.33333333]\n",
      " [2.12280702]]\n"
     ]
    }
   ],
   "source": [
    "from numpy.linalg import inv\n",
    "theta_hat = (np.linalg.inv(np.transpose(X) @ X) @ np.transpose(X)) @ y\n",
    "print(theta_hat)"
   ]
  },
  {
   "cell_type": "markdown",
   "metadata": {
    "id": "hLD2V-QpjLdF"
   },
   "source": [
    "so the best line that minimizes the overall error is \n",
    "\n",
    "$$h(x_i) = \\hat{\\theta_0} + \\hat{\\theta_1} \\times x_i = 2.33 + 2.12 \\times x_i \\;\\;\\;\\;\\;\\text{(this is the hypothesis function)} \\;\\; \\text{and} \\;\\;  h = X \\hat{\\theta} $$\n",
    "\n",
    "**Question 2:** calculate $h$ (matrix of predicted $y$):"
   ]
  },
  {
   "cell_type": "code",
   "execution_count": 5,
   "metadata": {
    "scrolled": false,
    "tags": [],
    "colab": {
     "base_uri": "https://localhost:8080/"
    },
    "id": "_x6b5U54jLdF",
    "outputId": "dd40b559-80e3-4d0e-8356-8e39ff52216e"
   },
   "outputs": [
    {
     "output_type": "stream",
     "name": "stdout",
     "text": [
      "[[ 4.45614035]\n",
      " [ 6.57894737]\n",
      " [10.8245614 ]\n",
      " [12.94736842]\n",
      " [17.19298246]]\n"
     ]
    }
   ],
   "source": [
    "h = X @ theta_hat\n",
    "print(h)\n",
    "#h[0], h[1], h[2], h[3] and h[4] are predicted points for y0, y1, y2, y3 and y4 "
   ]
  },
  {
   "cell_type": "code",
   "execution_count": 6,
   "metadata": {
    "colab": {
     "base_uri": "https://localhost:8080/",
     "height": 265
    },
    "id": "o3_fmmTPjLdF",
    "outputId": "d0a59cb7-323f-4036-dc86-9025786232b0"
   },
   "outputs": [
    {
     "output_type": "display_data",
     "data": {
      "image/png": "[encoded data removed]",
      "text/plain": [
       "<Figure size 432x288 with 1 Axes>"
      ]
     },
     "metadata": {
      "needs_background": "light"
     }
    }
   ],
   "source": [
    "plt.scatter(x, y)\n",
    "plt.scatter(x, h, color = 'black')\n",
    "plt.plot(x, h, color = 'red')\n",
    "plt.show()\n",
    "#red line is the best line for that three points"
   ]
  },
  {
   "cell_type": "markdown",
   "metadata": {
    "id": "Jcm1Srg2jLdG"
   },
   "source": [
    "A problem with this approach is the matrix inverse that is both computationally expensive and numerically unstable. An alternative approach is to use a matrix decomposition to avoid this operation. We will look at QR decomposition in the following section."
   ]
  },
  {
   "cell_type": "markdown",
   "metadata": {
    "id": "7ZXcQ9RbjLdG"
   },
   "source": [
    "# Solving the least squares equation via QR Decomposition <a class=\"anchor\" id=\"sec3\"></a>\n",
    "\n",
    "- The QR decomposition (also called the QR factorization) of a matrix is a decomposition of the matrix into an orthogonal matrix and a triangular matrix. \n",
    "$$ A = QR $$\n",
    "where $Q$ is an orthogonal matrix ($Q^T Q = I$) and $R$ is an upper triangular matrix. \n",
    "- $Q$ is a $m*n$ matrix and $R$ is an upper triangle matrix with the size $n * n$"
   ]
  },
  {
   "cell_type": "markdown",
   "metadata": {
    "id": "ULyxPlobjLdG"
   },
   "source": [
    "An Orthogonal Matrix $Q$ with orthonormal columns satisfies $ Q^T Q = I$ :\n",
    "\n",
    "$$Q^T Q = \\begin {bmatrix}  & q_1^T & \\\\  & q_2^T  & \\\\ & q_3^T & \\end{bmatrix} \\begin {bmatrix}  &  & \\\\ q_1 & q_2 & q_3 \\\\ & & \\end{bmatrix} = \n",
    "\\begin {bmatrix} 1 & 0 & 0 \\\\ 0 & 1 & 0 \\\\ 0 & 0 & 1 \\end{bmatrix} = I $$ \n",
    "There are several methods for computing the QR decomposition. One of such method is the Gram-Schmidt process."
   ]
  },
  {
   "cell_type": "markdown",
   "metadata": {
    "id": "zw88Njs8jLdG"
   },
   "source": [
    "### The Gram-Schmidt Process \n",
    "\n",
    "Start with the independent columns of $A$: $a_1, a_2, ..., a_n$. We want to construct orthogonal vectors $u_1, u_2, ..., u_n$. Then we divide $u_1, u_2, ..., u_n$ by their lengths.\n",
    "\n",
    "That produces orthonormal vectors $q_1 = \\frac{u_1}{||u_1||}, q_2 = \\frac{u_2}{||u_2||}, ..., q_n = \\frac{u_n}{||u_n||} $"
   ]
  },
  {
   "cell_type": "markdown",
   "metadata": {
    "id": "ribg9pvSjLdH"
   },
   "source": [
    "\n",
    "Begin by choosing $u_1 = a_1$. This first direction is accepted as it comes.\n",
    "The next direction $u_2$ must be perpendicular to $u_1$. Start with $a_2$ and subtract its projection along $u_1$. This leaves the perpendicular part, which is the orthogonal vector $u_2$:\n",
    "\n",
    "$$ \\text{First Gram-Schmidt step} \\;\\;\\;\\;\\;\\;\\;\\; u_2 = a_2 - \\frac{u_1^T a_2}{u_1^T u_1} u_1.$$\n",
    "\n",
    "so now $u_1$ and $u_2$ are orthogonal.\n",
    "The third direction starts with $a_3$. This is not a combination of $u_1$ and $u_2$ (because $a_3$ is not a combination of $a_1$ and $a_2$). But most likely $a_3$ is not perpendicular to $u_1$ and $u_2$. So subtract off its components in those two directions to get a perpendicular direction $u_3$:\n",
    "\n",
    "$$ \\text{Next Gram-Schmidt step} \\;\\;\\;\\;\\;\\;\\;\\; u_3 = a_3 - \\frac{u_1^T a_3}{u_1^T u_1} u_1 - \\frac{u_2^T a_3}{u_2^T u_2} u_2.$$\n",
    "\n",
    "This is the idea of the Gram-Schmidt process. Subtract from every new\n",
    "vector its projections in the directions already set. That idea is repeated at every step.\n",
    "For the fourth vector $a_4$, we would subtract three projections onto $u_1, u_2, u_3$ to get $u_4$.\n",
    "\n",
    "$$u_x = a_x - \\sum_{i=1}^{x-1} (\\frac{u_i^T . a_x}{u_i^T . u_i})\\; u_i \\;\\;\\;\\;\\; \\text{ for x = 2, ..., n}$$"
   ]
  },
  {
   "cell_type": "markdown",
   "metadata": {
    "id": "NHOm3-W8jLdH"
   },
   "source": [
    "At the end, or immediately when each one is found, divide the orthogonal vectors $u_1, u_2, ..., u_n$ by their lengths. The resulting vectors $q_1, q_2, ..., q_n$ are orthonormal.\n",
    "\n",
    "$$q_x = \\frac{u_x}{||u_x||} \\;\\;\\;\\;\\; \\text{ for x = 1, ..., n}$$\n"
   ]
  },
  {
   "cell_type": "markdown",
   "metadata": {
    "id": "MqSQQvKWjLdH"
   },
   "source": [
    "$$Q = \\begin {bmatrix} q_1 \\;|\\; q_2 \\;|\\; ... \\;|\\; q_n\\end{bmatrix} \\;\\;\\; \\text{q's are columns of Q}$$"
   ]
  },
  {
   "cell_type": "markdown",
   "metadata": {
    "id": "Uu-mqBlFjLdH"
   },
   "source": [
    "We started with a matrix $A$ and ended up with a matrix $Q$. How are those matrices related? matrix $R$ connects them, $A = QR$\n",
    "\n",
    "For a $3$by $3$ matrix A: \n",
    "$$ A = \\begin {bmatrix}  &  & \\\\ a_1 & a_2  & a_3 \\\\ & & \\end{bmatrix} \n",
    "= QR\n",
    "= \\begin {bmatrix}  &  & \\\\ q_1 & q_2 & q_3 \\\\ & & \\end{bmatrix} \n",
    "\\begin {bmatrix} q_1^T a_1 & q_1^T a_2 & q_1^T a_3\\\\  & q_2^T a_2 & q_2^T a_3 \\\\ & & q_3^T a_3 \\end{bmatrix} $$"
   ]
  },
  {
   "cell_type": "markdown",
   "metadata": {
    "id": "xu8ZHukijLdI"
   },
   "source": [
    "## Implementing Gram-Schmidt process \n",
    "## Exercise 2 <a class=\"anchor\" id=\"sec4\"></a>\n",
    "**Question 1:** implement the function `qr_gram_schmidt` which takes the matrix $A$ and returns the $Q$ and $R$ using gram schmidt process."
   ]
  },
  {
   "cell_type": "code",
   "execution_count": 150,
   "metadata": {
    "tags": [],
    "id": "OrsJNpbpjLdI"
   },
   "outputs": [],
   "source": [
    "import math\n",
    "b = np.array([[1.0, 1.0, 0.0], [1.0, 3.0, 1.0], [2.0, -1.0, 1.0]])\n",
    "\n",
    "# some same functions\n",
    "\n",
    "# Number 1\n",
    "#def qr_gram_schmidt(A):\n",
    "#    q,r = np.linalg.qr(A)\n",
    "#    return q,r\n",
    "\n",
    "# Number 2\n",
    "def qr_gram_schmidt(A):\n",
    "    \"\"\"\n",
    "    Applies the Gram-Schmidt method to A\n",
    "    and returns Q and R, so Q*R = A.\n",
    "    \"\"\"\n",
    "    R = np.zeros((A.shape[1], A.shape[1]))\n",
    "    Q = np.zeros(A.shape)\n",
    "    for k in range(0, A.shape[1]):\n",
    "        R[k, k] = np.sqrt(np.dot(A[:, k], A[:, k]))\n",
    "        Q[:, k] = A[:, k]/R[k, k]\n",
    "        for j in range(k+1, A.shape[1]):\n",
    "            R[k, j] = np.dot(Q[:, k], A[:, j])\n",
    "            A[:, j] = A[:, j] - R[k, j]*Q[:, k]\n",
    "    return Q, R\n",
    "\n",
    "# Number 3\n",
    "#def a(n,A):\n",
    "#    m = A.shape[0]\n",
    "#    return A[:m,n-1:n]\n",
    "#def u(n,A):\n",
    "#    m = A.shape[0]\n",
    "#    if n==1 :\n",
    "#         return a(1,A)\n",
    "#    else:\n",
    "#        p = np.zeros(shape=(m,1))\n",
    "#        for i in range(1,n):\n",
    "#              p += (((np.transpose(u(i,A)) @ a(n,A)) / (np.transpose(u(i,A)) @ u(i,A))) * u(i,A))\n",
    "#        return a(n,A) - p\n",
    "#def qr_gram_schmidt(A):\n",
    "#    m = A.shape[0]\n",
    "#    n = A.shape[1]\n",
    "#    Q = np.zeros(shape=(m,n))\n",
    "#    R = np.zeros(shape=(n,n))\n",
    "#    for i in range(1,n+1):\n",
    "#        Q[:m,i-1:i] = u(i,A)/np.linalg.norm(u(i,A))   # u / ||u||\n",
    "#    if n==m:\n",
    "#        R = np.linalg.inv(Q) @ A\n",
    "#    return (Q,R)\n",
    "#Q,R = qr_gram_schmidt(b)"
   ]
  },
  {
   "cell_type": "markdown",
   "metadata": {
    "id": "7JxOycRSjLdI"
   },
   "source": [
    "- Using QR decomposition, the coefficients can be found as follows:\n",
    "$$ \\hat{\\theta}_{qr} = R^-1 \\; Q^T \\; y$$\n",
    "\n",
    "**Question 2:** calculate $\\hat{\\theta}_{qr}$ for $X$ and $y$ using QR decomposition and `qr_gram_schmidt` function:"
   ]
  },
  {
   "cell_type": "code",
   "execution_count": 147,
   "metadata": {
    "tags": [],
    "id": "kecZzbWDjLdI",
    "colab": {
     "base_uri": "https://localhost:8080/"
    },
    "outputId": "ac919ee2-93de-4b27-dde9-35e6803199c0"
   },
   "outputs": [
    {
     "output_type": "execute_result",
     "data": {
      "text/plain": [
       "array([   256.85635254,   -131.3143594 ,    339.19345361,    475.50054515,\n",
       "        23848.53454191, -11938.53857617, -12291.50247559, -12973.56062556,\n",
       "       -12898.58956747])"
      ]
     },
     "metadata": {},
     "execution_count": 147
    }
   ],
   "source": [
    "q, r = np.linalg.qr(X)\n",
    "theta_hat_qr = (np.linalg.inv(r) @ np.transpose(q)) @ y\n",
    "theta_hat_qr"
   ]
  },
  {
   "cell_type": "markdown",
   "metadata": {
    "id": "ZiKLliXPjLdI"
   },
   "source": [
    "Note that we get the same result by using QR decompositon."
   ]
  },
  {
   "cell_type": "markdown",
   "metadata": {
    "id": "Xt9MgWYkjLdJ"
   },
   "source": [
    "# Predicting Medical Cost with Linear regression <a class=\"anchor\" id=\"sec5\"></a>\n"
   ]
  },
  {
   "cell_type": "markdown",
   "metadata": {
    "id": "8VF1KDTwjLdJ"
   },
   "source": [
    "Now we want to build a model to predict medical cost using Linear regression and least square approximation. we use Medical Cost Personal Dataset. this dataset consists of age, sex, bmi, children, smoker and region as __independent variables__ and charges as __dependent variable__.\n",
    "\n",
    "- age: age of primary beneficiary\n",
    "- sex: insurance contractor gender, female, male\n",
    "- bmi: Body mass index\n",
    "- children: Number of children covered by health insurance \n",
    "- smoker: Smoking\n",
    "- region: the beneficiary's residential area in the US, northeast, southeast, southwest, northwest.\n",
    "- charges: Individual medical costs billed by health insurance"
   ]
  },
  {
   "cell_type": "markdown",
   "metadata": {
    "id": "P0HgmsiOjLdJ"
   },
   "source": [
    "In the previous example (that we tried to fit a line through some points), there was only one independent variable. the hypothesis function we used was as follows:\n",
    "$$ h(x_i) = \\hat{\\theta_0} + \\hat{\\theta_1} x_i : \\;\\;\\;\\;\n",
    "\\begin{bmatrix} 1&x_1\\\\1&x_2\\\\.&.\\\\.&.\\\\1&x_m\\end{bmatrix} \n",
    "\\begin{bmatrix}\\hat{\\theta_0}\\\\\\hat{\\theta_1}\\end{bmatrix} \n",
    "= \\begin{bmatrix} h(x_1)\\\\h(x_2)\\\\.\\\\.\\\\h(x_m)\\end{bmatrix} \n",
    "\\;\\;\\;\\;\\;\\; \\text{($x_i$ is indepedent variable and $y_i$ is dependent variable)} $$\n",
    "\n",
    "($h(x_i)$ is the predicted value of $y_i$)\n",
    "\n",
    "In this dataset we have multiple independent variables, so we use __Multiple linear regression__.\n"
   ]
  },
  {
   "cell_type": "code",
   "execution_count": 135,
   "metadata": {
    "id": "GfEpkmEDjLdJ",
    "colab": {
     "base_uri": "https://localhost:8080/",
     "height": 206
    },
    "outputId": "665bbf14-d7ec-47c1-9557-f9d34e3f5e76"
   },
   "outputs": [
    {
     "output_type": "execute_result",
     "data": {
      "text/html": [
       "\n",
       "  <div id=\"df-dffa0b5c-99d6-4707-a105-0cbfab54bf20\">\n",
       "    <div class=\"colab-df-container\">\n",
       "      <div>\n",
       "<style scoped>\n",
       "    .dataframe tbody tr th:only-of-type {\n",
       "        vertical-align: middle;\n",
       "    }\n",
       "\n",
       "    .dataframe tbody tr th {\n",
       "        vertical-align: top;\n",
       "    }\n",
       "\n",
       "    .dataframe thead th {\n",
       "        text-align: right;\n",
       "    }\n",
       "</style>\n",
       "<table border=\"1\" class=\"dataframe\">\n",
       "  <thead>\n",
       "    <tr style=\"text-align: right;\">\n",
       "      <th></th>\n",
       "      <th>age</th>\n",
       "      <th>sex</th>\n",
       "      <th>bmi</th>\n",
       "      <th>children</th>\n",
       "      <th>smoker</th>\n",
       "      <th>region</th>\n",
       "      <th>charges</th>\n",
       "    </tr>\n",
       "  </thead>\n",
       "  <tbody>\n",
       "    <tr>\n",
       "      <th>0</th>\n",
       "      <td>19</td>\n",
       "      <td>female</td>\n",
       "      <td>27.900</td>\n",
       "      <td>0</td>\n",
       "      <td>yes</td>\n",
       "      <td>southwest</td>\n",
       "      <td>16884.92400</td>\n",
       "    </tr>\n",
       "    <tr>\n",
       "      <th>1</th>\n",
       "      <td>18</td>\n",
       "      <td>male</td>\n",
       "      <td>33.770</td>\n",
       "      <td>1</td>\n",
       "      <td>no</td>\n",
       "      <td>southeast</td>\n",
       "      <td>1725.55230</td>\n",
       "    </tr>\n",
       "    <tr>\n",
       "      <th>2</th>\n",
       "      <td>28</td>\n",
       "      <td>male</td>\n",
       "      <td>33.000</td>\n",
       "      <td>3</td>\n",
       "      <td>no</td>\n",
       "      <td>southeast</td>\n",
       "      <td>4449.46200</td>\n",
       "    </tr>\n",
       "    <tr>\n",
       "      <th>3</th>\n",
       "      <td>33</td>\n",
       "      <td>male</td>\n",
       "      <td>22.705</td>\n",
       "      <td>0</td>\n",
       "      <td>no</td>\n",
       "      <td>northwest</td>\n",
       "      <td>21984.47061</td>\n",
       "    </tr>\n",
       "    <tr>\n",
       "      <th>4</th>\n",
       "      <td>32</td>\n",
       "      <td>male</td>\n",
       "      <td>28.880</td>\n",
       "      <td>0</td>\n",
       "      <td>no</td>\n",
       "      <td>northwest</td>\n",
       "      <td>3866.85520</td>\n",
       "    </tr>\n",
       "  </tbody>\n",
       "</table>\n",
       "</div>\n",
       "      <button class=\"colab-df-convert\" onclick=\"convertToInteractive('df-dffa0b5c-99d6-4707-a105-0cbfab54bf20')\"\n",
       "              title=\"Convert this dataframe to an interactive table.\"\n",
       "              style=\"display:none;\">\n",
       "        \n",
       "  <svg xmlns=\"http://www.w3.org/2000/svg\" height=\"24px\"viewBox=\"0 0 24 24\"\n",
       "       width=\"24px\">\n",
       "    <path d=\"M0 0h24v24H0V0z\" fill=\"none\"/>\n",
       "    <path d=\"M18.56 5.44l.94 2.06.94-2.06 2.06-.94-2.06-.94-.94-2.06-.94 2.06-2.06.94zm-11 1L8.5 8.5l.94-2.06 2.06-.94-2.06-.94L8.5 2.5l-.94 2.06-2.06.94zm10 10l.94 2.06.94-2.06 2.06-.94-2.06-.94-.94-2.06-.94 2.06-2.06.94z\"/><path d=\"M17.41 7.96l-1.37-1.37c-.4-.4-.92-.59-1.43-.59-.52 0-1.04.2-1.43.59L10.3 9.45l-7.72 7.72c-.78.78-.78 2.05 0 2.83L4 21.41c.39.39.9.59 1.41.59.51 0 1.02-.2 1.41-.59l7.78-7.78 2.81-2.81c.8-.78.8-2.07 0-2.86zM5.41 20L4 18.59l7.72-7.72 1.47 1.35L5.41 20z\"/>\n",
       "  </svg>\n",
       "      </button>\n",
       "      \n",
       "  <style>\n",
       "    .colab-df-container {\n",
       "      display:flex;\n",
       "      flex-wrap:wrap;\n",
       "      gap: 12px;\n",
       "    }\n",
       "\n",
       "    .colab-df-convert {\n",
       "      background-color: #E8F0FE;\n",
       "      border: none;\n",
       "      border-radius: 50%;\n",
       "      cursor: pointer;\n",
       "      display: none;\n",
       "      fill: #1967D2;\n",
       "      height: 32px;\n",
       "      padding: 0 0 0 0;\n",
       "      width: 32px;\n",
       "    }\n",
       "\n",
       "    .colab-df-convert:hover {\n",
       "      background-color: #E2EBFA;\n",
       "      box-shadow: 0px 1px 2px rgba(60, 64, 67, 0.3), 0px 1px 3px 1px rgba(60, 64, 67, 0.15);\n",
       "      fill: #174EA6;\n",
       "    }\n",
       "\n",
       "    [theme=dark] .colab-df-convert {\n",
       "      background-color: #3B4455;\n",
       "      fill: #D2E3FC;\n",
       "    }\n",
       "\n",
       "    [theme=dark] .colab-df-convert:hover {\n",
       "      background-color: #434B5C;\n",
       "      box-shadow: 0px 1px 3px 1px rgba(0, 0, 0, 0.15);\n",
       "      filter: drop-shadow(0px 1px 2px rgba(0, 0, 0, 0.3));\n",
       "      fill: #FFFFFF;\n",
       "    }\n",
       "  </style>\n",
       "\n",
       "      <script>\n",
       "        const buttonEl =\n",
       "          document.querySelector('#df-dffa0b5c-99d6-4707-a105-0cbfab54bf20 button.colab-df-convert');\n",
       "        buttonEl.style.display =\n",
       "          google.colab.kernel.accessAllowed ? 'block' : 'none';\n",
       "\n",
       "        async function convertToInteractive(key) {\n",
       "          const element = document.querySelector('#df-dffa0b5c-99d6-4707-a105-0cbfab54bf20');\n",
       "          const dataTable =\n",
       "            await google.colab.kernel.invokeFunction('convertToInteractive',\n",
       "                                                     [key], {});\n",
       "          if (!dataTable) return;\n",
       "\n",
       "          const docLinkHtml = 'Like what you see? Visit the ' +\n",
       "            '<a target=\"_blank\" href=https://colab.research.google.com/notebooks/data_table.ipynb>data table notebook</a>'\n",
       "            + ' to learn more about interactive tables.';\n",
       "          element.innerHTML = '';\n",
       "          dataTable['output_type'] = 'display_data';\n",
       "          await google.colab.output.renderOutput(dataTable, element);\n",
       "          const docLink = document.createElement('div');\n",
       "          docLink.innerHTML = docLinkHtml;\n",
       "          element.appendChild(docLink);\n",
       "        }\n",
       "      </script>\n",
       "    </div>\n",
       "  </div>\n",
       "  "
      ],
      "text/plain": [
       "   age     sex     bmi  children smoker     region      charges\n",
       "0   19  female  27.900         0    yes  southwest  16884.92400\n",
       "1   18    male  33.770         1     no  southeast   1725.55230\n",
       "2   28    male  33.000         3     no  southeast   4449.46200\n",
       "3   33    male  22.705         0     no  northwest  21984.47061\n",
       "4   32    male  28.880         0     no  northwest   3866.85520"
      ]
     },
     "metadata": {},
     "execution_count": 135
    }
   ],
   "source": [
    "df = pd.read_csv('insurance.csv')\n",
    "df.head()"
   ]
  },
  {
   "cell_type": "code",
   "execution_count": 136,
   "metadata": {
    "id": "CS6MA2aIjLdJ",
    "colab": {
     "base_uri": "https://localhost:8080/"
    },
    "outputId": "7a929d3e-663b-4297-abbc-2c055e95dcd9"
   },
   "outputs": [
    {
     "output_type": "execute_result",
     "data": {
      "text/plain": [
       "(1338, 7)"
      ]
     },
     "metadata": {},
     "execution_count": 136
    }
   ],
   "source": [
    "df.shape"
   ]
  },
  {
   "cell_type": "markdown",
   "metadata": {
    "id": "crL04ok3jLdJ"
   },
   "source": [
    "Looking at the shape of dataset, there are $m=1338$ training examples and $n=7$ variables. Target variable here is __charges__. using multiple linear regression, hypothesis function looks like this: \n",
    "$$h(x_i) = age \\times \\theta_1 + sex \\times \\theta_2 + bmi \\times \\theta_3 + children \\times \\theta_4 + smoker \\times \\theta_5 + region \\times \\theta_6 \\;\\;\\; (\\text{for the $i^{th}$ training example})$$\n",
    "($h(x_i)$ is the predicted value of $i^{th} $training example, $\\theta_1, ..., \\theta_6$ are coefficants of hypothesis function.)"
   ]
  },
  {
   "cell_type": "markdown",
   "metadata": {
    "id": "MHf5eU0wjLdK"
   },
   "source": [
    "The $i^{th}$ training example can be represented as:\n",
    "$$x_i =  \\begin{bmatrix} x_{i1}&x_{i2}&...&x_{i6} \\end{bmatrix}=  \\begin{bmatrix} age_{1}&sex_{2}&...&region_{6} \\end{bmatrix}$$\n",
    "now we combine all training examples into single input matrix of size(m, n):\n",
    "$$ \\mathbf{X}= \\left( \\begin{smallmatrix} x_{11} & x_{12} &.&.&.&.& x_{1n}\\\\\n",
    "                                x_{21} & x_{22} &.&.&.&.& x_{2n}\\\\\n",
    "                                x_{31} & x_{32} &.&.&.&.& x_{3n}\\\\\n",
    "                                .&.&.&. &.&.&.& \\\\\n",
    "                                .&.&.&. &.&.&.& \\\\\n",
    "                                x_{m1} & x_{m2} &.&.&.&.&. x_{mn}\\\\\n",
    "                                \\end{smallmatrix} \\right)_{(m,n)}$$\n",
    "We represent coefficients of function and dependent variable in vector form as  \n",
    "$$\\theta = \\left (\\begin{matrix} \\theta_1 \\\\ \\theta_2 \\\\ .\\\\.\\\\ \\theta_6 \\end {matrix}\\right)\\; , \\;\\;\n",
    "\\mathbf{ y } = \\left (\\begin{matrix} y_1\\\\ y_2\\\\. \\\\. \\\\ y_i \\\\. \\\\. \\\\ y_m \\end{matrix} \\right)$$\n",
    "\n",
    "So we represent hypothesis function in vectorize form $$\\mathbf{ h_\\theta{(x)} = X\\theta}$$"
   ]
  },
  {
   "cell_type": "markdown",
   "metadata": {
    "id": "_bbdV4nijLdK"
   },
   "source": [
    "## Data Preprocessing<a class=\"anchor\" id=\"sec5_1\"></a>\n",
    "\n",
    "The hypothesis function can't work with categorical data directly, categorical data must be converted to numbers.\n",
    "\n",
    "__Label encoding__ is a popular encoding technique for handling categorical variables. In this technique, each label is assigned a unique integer based on alphabetical ordering.\n",
    "\n",
    "__One hot encoding__ is a representation of categorical variable as binary vectors.It allows the representation of categorical data to be more expresive. This first requires that the categorical values be mapped to integer values, that is label encoding. Then, each integer value is represented as a binary vector that is all zero values except the index of the integer, which is marked with a 1.\n",
    "\n",
    "- for 'sex' and 'smoker' column we will apply Label Encoding as there are only 2 catagories\n",
    "- for 'region' we will apply OneHot Encoding as there are more than 2 catagories"
   ]
  },
  {
   "cell_type": "code",
   "execution_count": 137,
   "metadata": {
    "id": "ll9POLWljLdK",
    "colab": {
     "base_uri": "https://localhost:8080/",
     "height": 206
    },
    "outputId": "362f24cd-f663-4584-ed71-70a67927db3f"
   },
   "outputs": [
    {
     "output_type": "execute_result",
     "data": {
      "text/html": [
       "\n",
       "  <div id=\"df-2cb15bb3-8d47-49cc-81f2-84186363da90\">\n",
       "    <div class=\"colab-df-container\">\n",
       "      <div>\n",
       "<style scoped>\n",
       "    .dataframe tbody tr th:only-of-type {\n",
       "        vertical-align: middle;\n",
       "    }\n",
       "\n",
       "    .dataframe tbody tr th {\n",
       "        vertical-align: top;\n",
       "    }\n",
       "\n",
       "    .dataframe thead th {\n",
       "        text-align: right;\n",
       "    }\n",
       "</style>\n",
       "<table border=\"1\" class=\"dataframe\">\n",
       "  <thead>\n",
       "    <tr style=\"text-align: right;\">\n",
       "      <th></th>\n",
       "      <th>age</th>\n",
       "      <th>sex</th>\n",
       "      <th>bmi</th>\n",
       "      <th>children</th>\n",
       "      <th>smoker</th>\n",
       "      <th>charges</th>\n",
       "      <th>IsIn_northeast</th>\n",
       "      <th>IsIn_northwest</th>\n",
       "      <th>IsIn_southeast</th>\n",
       "      <th>IsIn_southwest</th>\n",
       "    </tr>\n",
       "  </thead>\n",
       "  <tbody>\n",
       "    <tr>\n",
       "      <th>0</th>\n",
       "      <td>19</td>\n",
       "      <td>0</td>\n",
       "      <td>27.900</td>\n",
       "      <td>0</td>\n",
       "      <td>1</td>\n",
       "      <td>16884.92400</td>\n",
       "      <td>0</td>\n",
       "      <td>0</td>\n",
       "      <td>0</td>\n",
       "      <td>1</td>\n",
       "    </tr>\n",
       "    <tr>\n",
       "      <th>1</th>\n",
       "      <td>18</td>\n",
       "      <td>1</td>\n",
       "      <td>33.770</td>\n",
       "      <td>1</td>\n",
       "      <td>0</td>\n",
       "      <td>1725.55230</td>\n",
       "      <td>0</td>\n",
       "      <td>0</td>\n",
       "      <td>1</td>\n",
       "      <td>0</td>\n",
       "    </tr>\n",
       "    <tr>\n",
       "      <th>2</th>\n",
       "      <td>28</td>\n",
       "      <td>1</td>\n",
       "      <td>33.000</td>\n",
       "      <td>3</td>\n",
       "      <td>0</td>\n",
       "      <td>4449.46200</td>\n",
       "      <td>0</td>\n",
       "      <td>0</td>\n",
       "      <td>1</td>\n",
       "      <td>0</td>\n",
       "    </tr>\n",
       "    <tr>\n",
       "      <th>3</th>\n",
       "      <td>33</td>\n",
       "      <td>1</td>\n",
       "      <td>22.705</td>\n",
       "      <td>0</td>\n",
       "      <td>0</td>\n",
       "      <td>21984.47061</td>\n",
       "      <td>0</td>\n",
       "      <td>1</td>\n",
       "      <td>0</td>\n",
       "      <td>0</td>\n",
       "    </tr>\n",
       "    <tr>\n",
       "      <th>4</th>\n",
       "      <td>32</td>\n",
       "      <td>1</td>\n",
       "      <td>28.880</td>\n",
       "      <td>0</td>\n",
       "      <td>0</td>\n",
       "      <td>3866.85520</td>\n",
       "      <td>0</td>\n",
       "      <td>1</td>\n",
       "      <td>0</td>\n",
       "      <td>0</td>\n",
       "    </tr>\n",
       "  </tbody>\n",
       "</table>\n",
       "</div>\n",
       "      <button class=\"colab-df-convert\" onclick=\"convertToInteractive('df-2cb15bb3-8d47-49cc-81f2-84186363da90')\"\n",
       "              title=\"Convert this dataframe to an interactive table.\"\n",
       "              style=\"display:none;\">\n",
       "        \n",
       "  <svg xmlns=\"http://www.w3.org/2000/svg\" height=\"24px\"viewBox=\"0 0 24 24\"\n",
       "       width=\"24px\">\n",
       "    <path d=\"M0 0h24v24H0V0z\" fill=\"none\"/>\n",
       "    <path d=\"M18.56 5.44l.94 2.06.94-2.06 2.06-.94-2.06-.94-.94-2.06-.94 2.06-2.06.94zm-11 1L8.5 8.5l.94-2.06 2.06-.94-2.06-.94L8.5 2.5l-.94 2.06-2.06.94zm10 10l.94 2.06.94-2.06 2.06-.94-2.06-.94-.94-2.06-.94 2.06-2.06.94z\"/><path d=\"M17.41 7.96l-1.37-1.37c-.4-.4-.92-.59-1.43-.59-.52 0-1.04.2-1.43.59L10.3 9.45l-7.72 7.72c-.78.78-.78 2.05 0 2.83L4 21.41c.39.39.9.59 1.41.59.51 0 1.02-.2 1.41-.59l7.78-7.78 2.81-2.81c.8-.78.8-2.07 0-2.86zM5.41 20L4 18.59l7.72-7.72 1.47 1.35L5.41 20z\"/>\n",
       "  </svg>\n",
       "      </button>\n",
       "      \n",
       "  <style>\n",
       "    .colab-df-container {\n",
       "      display:flex;\n",
       "      flex-wrap:wrap;\n",
       "      gap: 12px;\n",
       "    }\n",
       "\n",
       "    .colab-df-convert {\n",
       "      background-color: #E8F0FE;\n",
       "      border: none;\n",
       "      border-radius: 50%;\n",
       "      cursor: pointer;\n",
       "      display: none;\n",
       "      fill: #1967D2;\n",
       "      height: 32px;\n",
       "      padding: 0 0 0 0;\n",
       "      width: 32px;\n",
       "    }\n",
       "\n",
       "    .colab-df-convert:hover {\n",
       "      background-color: #E2EBFA;\n",
       "      box-shadow: 0px 1px 2px rgba(60, 64, 67, 0.3), 0px 1px 3px 1px rgba(60, 64, 67, 0.15);\n",
       "      fill: #174EA6;\n",
       "    }\n",
       "\n",
       "    [theme=dark] .colab-df-convert {\n",
       "      background-color: #3B4455;\n",
       "      fill: #D2E3FC;\n",
       "    }\n",
       "\n",
       "    [theme=dark] .colab-df-convert:hover {\n",
       "      background-color: #434B5C;\n",
       "      box-shadow: 0px 1px 3px 1px rgba(0, 0, 0, 0.15);\n",
       "      filter: drop-shadow(0px 1px 2px rgba(0, 0, 0, 0.3));\n",
       "      fill: #FFFFFF;\n",
       "    }\n",
       "  </style>\n",
       "\n",
       "      <script>\n",
       "        const buttonEl =\n",
       "          document.querySelector('#df-2cb15bb3-8d47-49cc-81f2-84186363da90 button.colab-df-convert');\n",
       "        buttonEl.style.display =\n",
       "          google.colab.kernel.accessAllowed ? 'block' : 'none';\n",
       "\n",
       "        async function convertToInteractive(key) {\n",
       "          const element = document.querySelector('#df-2cb15bb3-8d47-49cc-81f2-84186363da90');\n",
       "          const dataTable =\n",
       "            await google.colab.kernel.invokeFunction('convertToInteractive',\n",
       "                                                     [key], {});\n",
       "          if (!dataTable) return;\n",
       "\n",
       "          const docLinkHtml = 'Like what you see? Visit the ' +\n",
       "            '<a target=\"_blank\" href=https://colab.research.google.com/notebooks/data_table.ipynb>data table notebook</a>'\n",
       "            + ' to learn more about interactive tables.';\n",
       "          element.innerHTML = '';\n",
       "          dataTable['output_type'] = 'display_data';\n",
       "          await google.colab.output.renderOutput(dataTable, element);\n",
       "          const docLink = document.createElement('div');\n",
       "          docLink.innerHTML = docLinkHtml;\n",
       "          element.appendChild(docLink);\n",
       "        }\n",
       "      </script>\n",
       "    </div>\n",
       "  </div>\n",
       "  "
      ],
      "text/plain": [
       "   age  sex     bmi  ...  IsIn_northwest  IsIn_southeast  IsIn_southwest\n",
       "0   19    0  27.900  ...               0               0               1\n",
       "1   18    1  33.770  ...               0               1               0\n",
       "2   28    1  33.000  ...               0               1               0\n",
       "3   33    1  22.705  ...               1               0               0\n",
       "4   32    1  28.880  ...               1               0               0\n",
       "\n",
       "[5 rows x 10 columns]"
      ]
     },
     "metadata": {},
     "execution_count": 137
    }
   ],
   "source": [
    "#By using pandas get_dummies function we can apply Label encoding and OneHot encoding in line of code. \n",
    "\n",
    "# Label Encoding:\n",
    "from sklearn.preprocessing import LabelEncoder\n",
    "le = LabelEncoder()\n",
    "df['sex'] = le.fit_transform(df['sex'])\n",
    "df['smoker'] = le.fit_transform(df['smoker'])\n",
    "\n",
    "# OneHot Encoding:\n",
    "df_encode = pd.get_dummies(data = df, prefix = 'IsIn', prefix_sep='_',\n",
    "               columns = ['region'],\n",
    "               drop_first =False,\n",
    "              dtype='int8')\n",
    "\n",
    "df_encode.head()"
   ]
  },
  {
   "cell_type": "markdown",
   "metadata": {
    "id": "Y93QeWR9jLdK"
   },
   "source": [
    "since we used one hot encoding, some dummy variables were added to the indpendent variables. Now the hypothesis function is as follows: \n",
    "\n",
    "$$h(x_i) =  age .\\theta_1 + sex .\\theta_2 + bmi  .\\theta_3 + children . \\theta_4 + smoker .\\theta_5 + \\\\\n",
    "\\text{IsIn_northeast} .\\theta_6 + \\text{IsIn_northwest} .\\theta_7 + \\text{IsIn_southeast} . \\theta_8 + \\text{IsIn_southwest} . \\theta_9 $$"
   ]
  },
  {
   "cell_type": "markdown",
   "metadata": {
    "id": "MXQaLFivjLdL"
   },
   "source": [
    "Now that all inputs are numeric, we begin to build our model.\n",
    "## Model building<a class=\"anchor\" id=\"sec5_2\"></a>\n",
    "\n",
    "First we have to build the following matrices:\n",
    "$$h_{(x)} =X\\theta \\;\\; \\rightarrow \\;\\;\\;\n",
    "\\begin{bmatrix}\n",
    "x_{11}&x_{12}&...&x_{19}\\\\\n",
    "x_{21}&x_{22}&...&x_{29}\\\\\n",
    ".&.&...&.\\\\\n",
    "x_{m1}&x_{m2}&...&x_{m9}\\\\\n",
    "\\end{bmatrix} \\;\\;\n",
    "\\begin{bmatrix}\\theta_1\\\\\\theta_2\\\\\\theta_3\\\\\\theta_4\\\\\\theta_5\\\\\\theta_6\\\\\\theta_7\\\\\\theta_8\\\\\\theta_9\\end{bmatrix}\n",
    "= \\begin{bmatrix} h(x_1)\\\\h(x_2)\\\\.\\\\h(x_m)\\end{bmatrix} \\;\\;,\\;\\; \n",
    "\\mathbf{ y } = \\begin{bmatrix} y_1\\\\y_2\\\\.\\\\y_m\\end{bmatrix}\n",
    "$$\n",
    "\n"
   ]
  },
  {
   "cell_type": "markdown",
   "metadata": {
    "id": "8DL1e6wNjLdL"
   },
   "source": [
    "_Type your answer here, replacing this text._"
   ]
  },
  {
   "cell_type": "code",
   "execution_count": 138,
   "metadata": {
    "tags": [],
    "id": "-xMOJCvHjLdL",
    "colab": {
     "base_uri": "https://localhost:8080/"
    },
    "outputId": "1425d98a-ea17-402c-848b-7617ab139abe"
   },
   "outputs": [
    {
     "output_type": "execute_result",
     "data": {
      "text/plain": [
       "(      age  sex     bmi  ...  IsIn_northwest  IsIn_southeast  IsIn_southwest\n",
       " 0      19    0  27.900  ...               0               0               1\n",
       " 1      18    1  33.770  ...               0               1               0\n",
       " 2      28    1  33.000  ...               0               1               0\n",
       " 3      33    1  22.705  ...               1               0               0\n",
       " 4      32    1  28.880  ...               1               0               0\n",
       " ...   ...  ...     ...  ...             ...             ...             ...\n",
       " 1333   50    1  30.970  ...               1               0               0\n",
       " 1334   18    0  31.920  ...               0               0               0\n",
       " 1335   18    0  36.850  ...               0               1               0\n",
       " 1336   21    0  25.800  ...               0               0               1\n",
       " 1337   61    0  29.070  ...               1               0               0\n",
       " \n",
       " [1338 rows x 9 columns], 0       16884.92400\n",
       " 1        1725.55230\n",
       " 2        4449.46200\n",
       " 3       21984.47061\n",
       " 4        3866.85520\n",
       "            ...     \n",
       " 1333    10600.54830\n",
       " 1334     2205.98080\n",
       " 1335     1629.83350\n",
       " 1336     2007.94500\n",
       " 1337    29141.36030\n",
       " Name: charges, Length: 1338, dtype: float64)"
      ]
     },
     "metadata": {},
     "execution_count": 138
    }
   ],
   "source": [
    "X = df_encode.drop('charges', axis=1)\n",
    "y = df_encode['charges']\n",
    "X, y"
   ]
  },
  {
   "cell_type": "markdown",
   "metadata": {
    "id": "agXlfm5XjLdL"
   },
   "source": [
    "### Spliting data \n",
    "in order to evaluate our model, we should split the data into training examples and test examples: "
   ]
  },
  {
   "cell_type": "code",
   "execution_count": 139,
   "metadata": {
    "id": "kCByGfJ0jLdL",
    "colab": {
     "base_uri": "https://localhost:8080/"
    },
    "outputId": "ea87d875-83cb-47c7-abc7-d825760b73ab"
   },
   "outputs": [
    {
     "output_type": "execute_result",
     "data": {
      "text/plain": [
       "((1070, 9), (268, 9))"
      ]
     },
     "metadata": {},
     "execution_count": 139
    }
   ],
   "source": [
    "from sklearn.model_selection import train_test_split\n",
    "X_train, X_test, y_train, y_test = train_test_split(X, y, test_size=0.2, random_state=11)\n",
    "X_train.shape, X_test.shape"
   ]
  },
  {
   "cell_type": "markdown",
   "metadata": {
    "id": "55yOskgmjLdL"
   },
   "source": [
    "## Training the Model<a class=\"anchor\" id=\"sec5_3\"></a>\n",
    "\n",
    "We want to find vector of coefficients ($\\theta$), then use the coefficients to predict charges ($h(x)$)."
   ]
  },
  {
   "cell_type": "markdown",
   "metadata": {
    "id": "nVXWHT_sjLdM"
   },
   "source": [
    "## Exercise 3<a class=\"anchor\" id=\"sec5_4\"></a>\n",
    "\n",
    "Using QR decomposition, the coefficients can be found as follows:\n",
    "$$ \\theta = R^-1 \\; Q^T \\; y$$\n",
    "\n",
    "**Question 1:** calculate $Q$ and $R$ using the `qr_gram_schmidt` function, then calculate $\\theta$:"
   ]
  },
  {
   "cell_type": "code",
   "execution_count": 140,
   "metadata": {
    "tags": [],
    "id": "damTO16MjLdM",
    "colab": {
     "base_uri": "https://localhost:8080/"
    },
    "outputId": "4464a75e-18b8-4f10-d5f8-310cd0427a87"
   },
   "outputs": [
    {
     "output_type": "stream",
     "name": "stdout",
     "text": [
      "[   256.85635254   -131.3143594     339.19345361    475.50054515\n",
      "  23848.53454191 -11938.53857617 -12291.50247559 -12973.56062556\n",
      " -12898.58956747]\n"
     ]
    }
   ],
   "source": [
    "Q, R = qr_gram_schmidt(X)\n",
    "from numpy.linalg import inv\n",
    "theta = (inv(R) @ np.transpose(Q)) @ y\n",
    "print(theta)"
   ]
  },
  {
   "cell_type": "markdown",
   "metadata": {
    "id": "3ZoQVLBajLdM"
   },
   "source": [
    "#### Prediction from our Model"
   ]
  },
  {
   "cell_type": "markdown",
   "metadata": {
    "id": "oNSRRv4rjLdM"
   },
   "source": [
    "now that we have $\\theta$, using our hypothesis function we can predict charges:\n",
    "$$h(x) = \\mathbf{X} \\theta $$"
   ]
  },
  {
   "cell_type": "markdown",
   "metadata": {
    "id": "8iLMM31YjLdM"
   },
   "source": [
    "**Question 2:** calculate predicted charges both for training data and testing data:"
   ]
  },
  {
   "cell_type": "code",
   "execution_count": 141,
   "metadata": {
    "tags": [],
    "id": "AeNJe87ajLdM"
   },
   "outputs": [],
   "source": [
    "#y_train_pred is the hypothesis function prediction of training examples\n",
    "y_train_pred = X_train @ theta\n",
    "#y_test_pred is the hypothesis function prediction of test examples\n",
    "y_test_pred  = X_test @ theta"
   ]
  },
  {
   "cell_type": "code",
   "execution_count": 28,
   "metadata": {
    "scrolled": false,
    "id": "Uv4CXXaLjLdM",
    "colab": {
     "base_uri": "https://localhost:8080/",
     "height": 425
    },
    "outputId": "4facbed1-17e9-47e3-abf7-5234a16e2b4c"
   },
   "outputs": [
    {
     "output_type": "execute_result",
     "data": {
      "text/plain": [
       "Text(0.5, 0, 'Index')"
      ]
     },
     "metadata": {},
     "execution_count": 28
    },
    {
     "output_type": "display_data",
     "data": {
      "image/png": "[encoded data removed]",
      "text/plain": [
       "<Figure size 1080x432 with 1 Axes>"
      ]
     },
     "metadata": {}
    }
   ],
   "source": [
    "import seaborn as sns\n",
    "plt.style.use('ggplot')\n",
    "fig, ax=plt.subplots(figsize=(15,6))\n",
    "sns.lineplot(x=np.arange(len(y_test)) , y=y_test, label='Actuals',color='blue',ax=ax)\n",
    "sns.lineplot(x=np.arange(len(y_test)), y=y_test_pred, label='Predictions',color='red',ax=ax)\n",
    "ax.set_title('Charges: Actuals vs Predictions')\n",
    "ax.set_ylabel('Charges')\n",
    "ax.set_xlabel('Index')"
   ]
  },
  {
   "cell_type": "markdown",
   "metadata": {
    "id": "hwFBf9dFjLdN"
   },
   "source": [
    "# Model Evaluation<a class=\"anchor\" id=\"sec5_5\"></a>\n",
    "\n",
    "We predicted value for charges by using our model coefficients for test data set. Now we will compare the predicted value with actual value in test set. \n",
    "\n",
    "$\\mathbf{R^2}$ is statistical measure of how close data are to the fitted regression line. $\\mathbf{R^2}$ is always between 0 to 100%. 0% indicates that model explains none of the variability of the response data around it's mean. 100% indicates that model explains all the variablity of the response data around the mean.\n",
    "\n",
    "$$\\mathbf{R^2 = 1 - \\frac{SSE}{SST}}$$\n",
    "**SSE = Sum of Square Error**  \n",
    "**SST = Sum of Square Total**  \n",
    "$$\\mathbf{SSE = \\sum_{i=1}^{m}(h(x_i) - y_i)^2}$$\n",
    "$$\\mathbf{SST = \\sum_{i=1}^{m}(h(x_i) - \\bar{y}_i)^2} \\;\\;\\; \\text{($\\mathbf{\\bar{y}}$ is mean value of $\\mathbf{y}$)}$$\n"
   ]
  },
  {
   "cell_type": "markdown",
   "metadata": {
    "id": "HyubSc7ujLdN"
   },
   "source": [
    "## Exercise 4: <a class=\"anchor\" id=\"sec5_6\"></a>\n"
   ]
  },
  {
   "cell_type": "markdown",
   "metadata": {
    "id": "YLvWmUiFjLdN"
   },
   "source": [
    "**Question 1:** calculate $R^2$ score of testing data using $\\mathbf{R^2 = 1 - \\frac{SSE}{SST}}$: "
   ]
  },
  {
   "cell_type": "code",
   "execution_count": 38,
   "metadata": {
    "tags": [],
    "id": "o_BOR4CZjLdN",
    "colab": {
     "base_uri": "https://localhost:8080/"
    },
    "outputId": "d69e23a0-7eaf-45ac-ca6e-0926d63d2444"
   },
   "outputs": [
    {
     "output_type": "stream",
     "name": "stdout",
     "text": [
      "0.7437727570431492\n"
     ]
    }
   ],
   "source": [
    "sse_test_data = np.sum(np.power(y_test_pred - y,2))\n",
    "sst_test_data = np.sum(np.power(y_test_pred - y.mean(),2))\n",
    "R_square_test_data = 1 - (sse_test_data / sst_test_data)\n",
    "\n",
    "print(R_square_test_data)"
   ]
  },
  {
   "cell_type": "markdown",
   "metadata": {
    "id": "Hm7fKjmmjLdN"
   },
   "source": [
    "A $R^2$ score above 0.70 for our model is good enough for purpose of this homework and it fits our data test very well."
   ]
  },
  {
   "cell_type": "markdown",
   "metadata": {
    "id": "QCSudXIpjLdO"
   },
   "source": [
    "## Overfitting\n",
    "A concern with multiple regression is overfitting; with a lot of predictors and a\n",
    "limited number of samples, random sampling fluctuations will allow some linear\n",
    "combination of the predictors to match the predictand perfectly over the limited\n",
    "samples we have, but the correlations will fall apart for a different set of samples.\n",
    "\n",
    "we can calculate $R^2$ score of training data set and compare it to $R^2$ score of testing data set and check if overfitting happens:"
   ]
  },
  {
   "cell_type": "code",
   "execution_count": 39,
   "metadata": {
    "tags": [],
    "id": "T6LlNVoYjLdO",
    "colab": {
     "base_uri": "https://localhost:8080/"
    },
    "outputId": "e0cd537d-9b14-4810-f92c-83b4002c446f"
   },
   "outputs": [
    {
     "output_type": "stream",
     "name": "stdout",
     "text": [
      "0.6501410952040891\n",
      "0.7437727570431492\n"
     ]
    }
   ],
   "source": [
    "sse_train_data = np.sum(np.power(y_train_pred - y,2))\n",
    "sst_train_data = np.sum(np.power(y_train_pred - y.mean(),2))\n",
    "R_square_train_data = 1 - (sse_train_data / sst_train_data)\n",
    "\n",
    "print(R_square_train_data)\n",
    "print(R_square_test_data)"
   ]
  },
  {
   "cell_type": "markdown",
   "metadata": {
    "id": "4i5qDs2qjLdO"
   },
   "source": [
    "(Difference between $R^2$ score of training and testing data should not be drastic and overfitting should not happen)"
   ]
  },
  {
   "cell_type": "markdown",
   "metadata": {
    "id": "HHxuHc-OjLdO"
   },
   "source": [
    "## Optional Excersice: <a class=\"anchor\" id=\"sec6\"></a>\n",
    "\n",
    "\n",
    "students are welcome to use other regression techniques to improve performance and build a model for this data set that predicts **Charges** more accurately."
   ]
  },
  {
   "cell_type": "markdown",
   "source": [
    "I tried to select another regression model and fit the dataset to give better accuracy rate and I can do it  😀 (but I think  :) )"
   ],
   "metadata": {
    "id": "HaeervIbKixZ"
   }
  },
  {
   "cell_type": "code",
   "execution_count": 123,
   "metadata": {
    "id": "iRDUe4e4jLdO",
    "colab": {
     "base_uri": "https://localhost:8080/",
     "height": 343
    },
    "outputId": "344ebadf-7d41-4e2a-a229-8604e7651b38"
   },
   "outputs": [
    {
     "output_type": "display_data",
     "data": {
      "image/png": "[encoded data removed]",
      "text/plain": [
       "<Figure size 432x288 with 2 Axes>"
      ]
     },
     "metadata": {}
    }
   ],
   "source": [
    "correlation = df_encode.corr(method='pearson')\n",
    "sns.set(font_scale=1.0)\n",
    "\n",
    "heatmap = sns.heatmap(correlation, cbar=True, annot=True, square=True, fmt='.2f', yticklabels=df_encode.columns, xticklabels=df_encode.columns)\n",
    "plt.show()"
   ]
  },
  {
   "cell_type": "code",
   "source": [
    "from sklearn.linear_model import LinearRegression\n",
    "from sklearn.linear_model import Lasso\n",
    "from sklearn.linear_model import ElasticNet\n",
    "from sklearn.tree import DecisionTreeRegressor\n",
    "from sklearn.neighbors import KNeighborsRegressor\n",
    "from sklearn.ensemble import GradientBoostingRegressor\n",
    "from sklearn.feature_selection import RFE\n",
    "from sklearn.model_selection import train_test_split\n",
    "from sklearn.model_selection import cross_val_score\n",
    "from sklearn.model_selection import KFold\n",
    "from sklearn.pipeline import Pipeline\n",
    "from sklearn.preprocessing import StandardScaler\n",
    "\n",
    "\n",
    "pipelines = []\n",
    "pipelines.append(('ScaledLR', Pipeline([('Scaler', StandardScaler()),('LR',LinearRegression())])))\n",
    "pipelines.append(('ScaledLASSO', Pipeline([('Scaler', StandardScaler()),('LASSO', Lasso())])))\n",
    "pipelines.append(('ScaledEN', Pipeline([('Scaler', StandardScaler()),('EN', ElasticNet())])))\n",
    "pipelines.append(('ScaledKNN', Pipeline([('Scaler', StandardScaler()),('KNN', KNeighborsRegressor())])))\n",
    "pipelines.append(('ScaledCART', Pipeline([('Scaler', StandardScaler()),('CART', DecisionTreeRegressor())])))\n",
    "pipelines.append(('ScaledGBM', Pipeline([('Scaler', StandardScaler()),('GBM', GradientBoostingRegressor())])))\n",
    "\n",
    "results = []\n",
    "names = []\n",
    "for name, model in pipelines:\n",
    "    kfold = KFold(n_splits=10)\n",
    "    cv_results = cross_val_score(model, X_train, y_train, cv=kfold, scoring='neg_mean_squared_error')\n",
    "    results.append(cv_results)\n",
    "    names.append(name)\n",
    "    msg = \"%s: %f (%f)\" % (name, cv_results.mean(), cv_results.std())\n",
    "    print(msg)"
   ],
   "metadata": {
    "colab": {
     "base_uri": "https://localhost:8080/"
    },
    "id": "AzaBZD8Q5ynI",
    "outputId": "83a185fa-0303-4923-9f19-a63178bae446"
   },
   "execution_count": 54,
   "outputs": [
    {
     "output_type": "stream",
     "name": "stdout",
     "text": [
      "ScaledLR: -39460967.217124 (9899616.278934)\n"
     ]
    },
    {
     "output_type": "stream",
     "name": "stderr",
     "text": [
      "/usr/local/lib/python3.7/dist-packages/sklearn/linear_model/_coordinate_descent.py:648: ConvergenceWarning: Objective did not converge. You might want to increase the number of iterations, check the scale of the features or consider increasing regularisation. Duality gap: 2.097e+07, tolerance: 1.439e+07\n",
      "  coef_, l1_reg, l2_reg, X, y, max_iter, tol, rng, random, positive\n"
     ]
    },
    {
     "output_type": "stream",
     "name": "stdout",
     "text": [
      "ScaledLASSO: -39462933.358815 (9896483.031204)\n",
      "ScaledEN: -51585277.010741 (7760006.587139)\n",
      "ScaledKNN: -32613822.387248 (10030527.575207)\n",
      "ScaledCART: -44824843.964593 (9597568.139228)\n",
      "ScaledGBM: -22111464.133650 (8113248.380006)\n"
     ]
    }
   ]
  },
  {
   "cell_type": "code",
   "source": [
    "from sklearn.model_selection import GridSearchCV\n",
    "\n",
    "scaler = StandardScaler().fit(X_train)\n",
    "rescaledX = scaler.transform(X_train)\n",
    "param_grid = dict(n_estimators=np.array([50,100,200,300,400]))\n",
    "model = GradientBoostingRegressor()\n",
    "kfold = KFold(n_splits=10)\n",
    "grid = GridSearchCV(estimator=model, param_grid=param_grid, scoring='neg_mean_squared_error', cv=kfold)\n",
    "grid_result = grid.fit(rescaledX, y_train)\n",
    "\n",
    "means = grid_result.cv_results_['mean_test_score']\n",
    "stds = grid_result.cv_results_['std_test_score']\n",
    "params = grid_result.cv_results_['params']\n",
    "for mean, stdev, param in zip(means, stds, params):\n",
    "    print(\"%f (%f) with: %r\" % (mean, stdev, param))\n",
    "\n",
    "print(\"Best: %f using %s\" % (grid_result.best_score_, grid_result.best_params_))"
   ],
   "metadata": {
    "colab": {
     "base_uri": "https://localhost:8080/"
    },
    "id": "YTW6Zr_E8Spl",
    "outputId": "98c981a8-95fa-403d-f419-51f0d64171ba"
   },
   "execution_count": 61,
   "outputs": [
    {
     "output_type": "stream",
     "name": "stdout",
     "text": [
      "-21509985.322890 (7695476.525694) with: {'n_estimators': 50}\n",
      "-22085131.478358 (8074558.513780) with: {'n_estimators': 100}\n",
      "-23360010.659387 (8073250.034571) with: {'n_estimators': 200}\n",
      "-24608367.079554 (7786286.179904) with: {'n_estimators': 300}\n",
      "-25409537.480509 (7504952.294872) with: {'n_estimators': 400}\n",
      "Best: -21509985.322890 using {'n_estimators': 50}\n"
     ]
    }
   ]
  },
  {
   "cell_type": "code",
   "source": [
    "model.fit(X_train,y_train)\n",
    "y_train_pre = model.predict(X_train)\n",
    "y_test_pre = model.predict(X_test)\n",
    "\n",
    "y_train_pred = pd.DataFrame(data=y_train_pre,index=X_train.index)\n",
    "y_test_pred = pd.DataFrame(data=y_test_pre,index=X_test.index)\n",
    "\n",
    "sse_train_data = np.sum(np.power(y_train_pred[0] - y,2))\n",
    "sst_train_data = np.sum(np.power(y_train_pred[0] - y.mean(),2))\n",
    "R_square_train_data = 1 - (sse_train_data / sst_train_data)\n",
    "\n",
    "sse_test_data = np.sum(np.power(y_test_pred[0] - y,2))\n",
    "sst_test_data = np.sum(np.power(y_test_pred[0] - y.mean(),2))\n",
    "R_square_test_data = 1 - (sse_test_data / sst_test_data)\n",
    "\n",
    "print(f\"R2  score of training data set : {R_square_train_data}\")\n",
    "print(f\"R2  score of testing  data set : {R_square_test_data}\")"
   ],
   "metadata": {
    "colab": {
     "base_uri": "https://localhost:8080/"
    },
    "id": "1cDWtY2k9XX7",
    "outputId": "8e0a6c39-2864-4033-e17d-7b036d415232"
   },
   "execution_count": 128,
   "outputs": [
    {
     "output_type": "stream",
     "name": "stdout",
     "text": [
      "R2  score of training data set : 0.8883631680030724\n",
      "R2  score of testing  data set : 0.8634989876524284\n"
     ]
    }
   ]
  },
  {
   "cell_type": "markdown",
   "metadata": {
    "id": "q1vhWkLvjLdP"
   },
   "source": [
    "> This document was compiled, gathered and coded by the teaching assistant team and may be used only for educational purposes. The authors would like to thank the many projects and educational material that made their source code freely available on the internet, especially otter-grader that made the generation and sanitization of the notebook easier."
   ]
  }
 ],
 "metadata": {
  "kernelspec": {
   "display_name": "Python 3",
   "language": "python",
   "name": "python3"
  },
  "language_info": {
   "codemirror_mode": {
    "name": "ipython",
    "version": 3
   },
   "file_extension": ".py",
   "mimetype": "text/x-python",
   "name": "python",
   "nbconvert_exporter": "python",
   "pygments_lexer": "ipython3",
   "version": "3.7.6"
  },
  "colab": {
   "name": "FUM-Linear-Algebra-00-01-1-Lab#02.ipynb",
   "provenance": [],
   "collapsed_sections": []
  }
 },
 "nbformat": 4,
 "nbformat_minor": 0
}